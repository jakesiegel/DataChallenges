{
 "cells": [
  {
   "cell_type": "markdown",
   "metadata": {},
   "source": [
    "# Jake's Data Challenge 2 Solution\n",
    "\n",
    "The set up is that there is an A/B price test and the customer wants to know:\n",
    "1) whether the company should seel at the higher or lower price\n",
    "2) Could the test have run for a shorter time and, if so, for how many days?\n",
    "3) What actionable insights in the customer base are there that could increase sales?"
   ]
  },
  {
   "cell_type": "code",
   "execution_count": 157,
   "metadata": {},
   "outputs": [],
   "source": [
    "%matplotlib inline\n",
    "\n",
    "import pandas as pd\n",
    "from IPython.display import HTML, display\n",
    "import scipy.stats as st\n",
    "import math\n",
    "import seaborn as sns\n",
    "# The data lives in 2 .csv files, so let's load those.\n",
    "# results = pd.read_csv('test_results.csv')\n",
    "# users = pd.read_csv('user_table.csv')"
   ]
  },
  {
   "cell_type": "code",
   "execution_count": 2,
   "metadata": {},
   "outputs": [
    {
     "data": {
      "text/html": [
       "<div>\n",
       "<style>\n",
       "    .dataframe thead tr:only-child th {\n",
       "        text-align: right;\n",
       "    }\n",
       "\n",
       "    .dataframe thead th {\n",
       "        text-align: left;\n",
       "    }\n",
       "\n",
       "    .dataframe tbody tr th {\n",
       "        vertical-align: top;\n",
       "    }\n",
       "</style>\n",
       "<table border=\"1\" class=\"dataframe\">\n",
       "  <thead>\n",
       "    <tr style=\"text-align: right;\">\n",
       "      <th></th>\n",
       "      <th>user_id</th>\n",
       "      <th>timestamp</th>\n",
       "      <th>source</th>\n",
       "      <th>device</th>\n",
       "      <th>operative_system</th>\n",
       "      <th>test</th>\n",
       "      <th>price</th>\n",
       "      <th>converted</th>\n",
       "    </tr>\n",
       "  </thead>\n",
       "  <tbody>\n",
       "    <tr>\n",
       "      <th>0</th>\n",
       "      <td>604839</td>\n",
       "      <td>2015-05-08 03:38:34</td>\n",
       "      <td>ads_facebook</td>\n",
       "      <td>mobile</td>\n",
       "      <td>iOS</td>\n",
       "      <td>0</td>\n",
       "      <td>39</td>\n",
       "      <td>0</td>\n",
       "    </tr>\n",
       "    <tr>\n",
       "      <th>1</th>\n",
       "      <td>624057</td>\n",
       "      <td>2015-05-10 21:08:46</td>\n",
       "      <td>seo-google</td>\n",
       "      <td>mobile</td>\n",
       "      <td>android</td>\n",
       "      <td>0</td>\n",
       "      <td>39</td>\n",
       "      <td>0</td>\n",
       "    </tr>\n",
       "    <tr>\n",
       "      <th>2</th>\n",
       "      <td>317970</td>\n",
       "      <td>2015-04-04 15:01:23</td>\n",
       "      <td>ads-bing</td>\n",
       "      <td>mobile</td>\n",
       "      <td>android</td>\n",
       "      <td>0</td>\n",
       "      <td>39</td>\n",
       "      <td>0</td>\n",
       "    </tr>\n",
       "    <tr>\n",
       "      <th>3</th>\n",
       "      <td>685636</td>\n",
       "      <td>2015-05-07 07:26:01</td>\n",
       "      <td>direct_traffic</td>\n",
       "      <td>mobile</td>\n",
       "      <td>iOS</td>\n",
       "      <td>1</td>\n",
       "      <td>59</td>\n",
       "      <td>0</td>\n",
       "    </tr>\n",
       "    <tr>\n",
       "      <th>4</th>\n",
       "      <td>820854</td>\n",
       "      <td>2015-05-24 11:04:40</td>\n",
       "      <td>ads_facebook</td>\n",
       "      <td>web</td>\n",
       "      <td>mac</td>\n",
       "      <td>0</td>\n",
       "      <td>39</td>\n",
       "      <td>0</td>\n",
       "    </tr>\n",
       "  </tbody>\n",
       "</table>\n",
       "</div>"
      ],
      "text/plain": [
       "   user_id            timestamp          source  device operative_system  \\\n",
       "0   604839  2015-05-08 03:38:34    ads_facebook  mobile              iOS   \n",
       "1   624057  2015-05-10 21:08:46      seo-google  mobile          android   \n",
       "2   317970  2015-04-04 15:01:23        ads-bing  mobile          android   \n",
       "3   685636  2015-05-07 07:26:01  direct_traffic  mobile              iOS   \n",
       "4   820854  2015-05-24 11:04:40    ads_facebook     web              mac   \n",
       "\n",
       "   test  price  converted  \n",
       "0     0     39          0  \n",
       "1     0     39          0  \n",
       "2     0     39          0  \n",
       "3     1     59          0  \n",
       "4     0     39          0  "
      ]
     },
     "execution_count": 2,
     "metadata": {},
     "output_type": "execute_result"
    }
   ],
   "source": [
    "results.head()"
   ]
  },
  {
   "cell_type": "code",
   "execution_count": 3,
   "metadata": {},
   "outputs": [
    {
     "data": {
      "text/html": [
       "<div>\n",
       "<style>\n",
       "    .dataframe thead tr:only-child th {\n",
       "        text-align: right;\n",
       "    }\n",
       "\n",
       "    .dataframe thead th {\n",
       "        text-align: left;\n",
       "    }\n",
       "\n",
       "    .dataframe tbody tr th {\n",
       "        vertical-align: top;\n",
       "    }\n",
       "</style>\n",
       "<table border=\"1\" class=\"dataframe\">\n",
       "  <thead>\n",
       "    <tr style=\"text-align: right;\">\n",
       "      <th></th>\n",
       "      <th>user_id</th>\n",
       "      <th>city</th>\n",
       "      <th>country</th>\n",
       "      <th>lat</th>\n",
       "      <th>long</th>\n",
       "    </tr>\n",
       "  </thead>\n",
       "  <tbody>\n",
       "    <tr>\n",
       "      <th>0</th>\n",
       "      <td>510335</td>\n",
       "      <td>Peabody</td>\n",
       "      <td>USA</td>\n",
       "      <td>42.53</td>\n",
       "      <td>-70.97</td>\n",
       "    </tr>\n",
       "    <tr>\n",
       "      <th>1</th>\n",
       "      <td>89568</td>\n",
       "      <td>Reno</td>\n",
       "      <td>USA</td>\n",
       "      <td>39.54</td>\n",
       "      <td>-119.82</td>\n",
       "    </tr>\n",
       "    <tr>\n",
       "      <th>2</th>\n",
       "      <td>434134</td>\n",
       "      <td>Rialto</td>\n",
       "      <td>USA</td>\n",
       "      <td>34.11</td>\n",
       "      <td>-117.39</td>\n",
       "    </tr>\n",
       "    <tr>\n",
       "      <th>3</th>\n",
       "      <td>289769</td>\n",
       "      <td>Carson City</td>\n",
       "      <td>USA</td>\n",
       "      <td>39.15</td>\n",
       "      <td>-119.74</td>\n",
       "    </tr>\n",
       "    <tr>\n",
       "      <th>4</th>\n",
       "      <td>939586</td>\n",
       "      <td>Chicago</td>\n",
       "      <td>USA</td>\n",
       "      <td>41.84</td>\n",
       "      <td>-87.68</td>\n",
       "    </tr>\n",
       "  </tbody>\n",
       "</table>\n",
       "</div>"
      ],
      "text/plain": [
       "   user_id         city country    lat    long\n",
       "0   510335      Peabody     USA  42.53  -70.97\n",
       "1    89568         Reno     USA  39.54 -119.82\n",
       "2   434134       Rialto     USA  34.11 -117.39\n",
       "3   289769  Carson City     USA  39.15 -119.74\n",
       "4   939586      Chicago     USA  41.84  -87.68"
      ]
     },
     "execution_count": 3,
     "metadata": {},
     "output_type": "execute_result"
    }
   ],
   "source": [
    "users.head()"
   ]
  },
  {
   "cell_type": "markdown",
   "metadata": {},
   "source": [
    "## A first look at the data.\n",
    "There are a few things I want to look at before anything.\n",
    "First, I want to know whether the company has tracked users.  The question is whether I could tell if a user looks, leaves, and then comes back and buys.\n",
    "Second, I want to know whether there are some visitor categories that never result in a purchase under any conditions before I start looking at the individual price points.  My suspision is that mobile might device visitors could be such a category, as well as any potential out of US visitors. I'm just going to assume that "
   ]
  },
  {
   "cell_type": "code",
   "execution_count": 4,
   "metadata": {},
   "outputs": [
    {
     "name": "stdout",
     "output_type": "stream",
     "text": [
      "User IDs are not tracked\n"
     ]
    }
   ],
   "source": [
    "# are the user_id's unique?\n",
    "if len(results['user_id'])==len(set(results['user_id'])): print 'User IDs are not tracked'"
   ]
  },
  {
   "cell_type": "code",
   "execution_count": 24,
   "metadata": {},
   "outputs": [
    {
     "data": {
      "text/html": [
       "<div>\n",
       "<style>\n",
       "    .dataframe thead tr:only-child th {\n",
       "        text-align: right;\n",
       "    }\n",
       "\n",
       "    .dataframe thead th {\n",
       "        text-align: left;\n",
       "    }\n",
       "\n",
       "    .dataframe tbody tr th {\n",
       "        vertical-align: top;\n",
       "    }\n",
       "</style>\n",
       "<table border=\"1\" class=\"dataframe\">\n",
       "  <thead>\n",
       "    <tr style=\"text-align: right;\">\n",
       "      <th></th>\n",
       "      <th>user_id</th>\n",
       "      <th>timestamp</th>\n",
       "      <th>source</th>\n",
       "      <th>device</th>\n",
       "      <th>operative_system</th>\n",
       "      <th>test</th>\n",
       "      <th>price</th>\n",
       "      <th>converted</th>\n",
       "      <th>city</th>\n",
       "      <th>country</th>\n",
       "      <th>lat</th>\n",
       "      <th>long</th>\n",
       "    </tr>\n",
       "  </thead>\n",
       "  <tbody>\n",
       "    <tr>\n",
       "      <th>0</th>\n",
       "      <td>604839</td>\n",
       "      <td>2015-05-08 03:38:34</td>\n",
       "      <td>ads_facebook</td>\n",
       "      <td>mobile</td>\n",
       "      <td>iOS</td>\n",
       "      <td>0</td>\n",
       "      <td>39</td>\n",
       "      <td>0</td>\n",
       "      <td>Buffalo</td>\n",
       "      <td>USA</td>\n",
       "      <td>42.89</td>\n",
       "      <td>-78.86</td>\n",
       "    </tr>\n",
       "    <tr>\n",
       "      <th>1</th>\n",
       "      <td>624057</td>\n",
       "      <td>2015-05-10 21:08:46</td>\n",
       "      <td>seo-google</td>\n",
       "      <td>mobile</td>\n",
       "      <td>android</td>\n",
       "      <td>0</td>\n",
       "      <td>39</td>\n",
       "      <td>0</td>\n",
       "      <td>Lakeville</td>\n",
       "      <td>USA</td>\n",
       "      <td>44.68</td>\n",
       "      <td>-93.24</td>\n",
       "    </tr>\n",
       "    <tr>\n",
       "      <th>2</th>\n",
       "      <td>317970</td>\n",
       "      <td>2015-04-04 15:01:23</td>\n",
       "      <td>ads-bing</td>\n",
       "      <td>mobile</td>\n",
       "      <td>android</td>\n",
       "      <td>0</td>\n",
       "      <td>39</td>\n",
       "      <td>0</td>\n",
       "      <td>Parma</td>\n",
       "      <td>USA</td>\n",
       "      <td>41.38</td>\n",
       "      <td>-81.73</td>\n",
       "    </tr>\n",
       "    <tr>\n",
       "      <th>3</th>\n",
       "      <td>685636</td>\n",
       "      <td>2015-05-07 07:26:01</td>\n",
       "      <td>direct_traffic</td>\n",
       "      <td>mobile</td>\n",
       "      <td>iOS</td>\n",
       "      <td>1</td>\n",
       "      <td>59</td>\n",
       "      <td>0</td>\n",
       "      <td>Fayetteville</td>\n",
       "      <td>USA</td>\n",
       "      <td>35.07</td>\n",
       "      <td>-78.90</td>\n",
       "    </tr>\n",
       "    <tr>\n",
       "      <th>4</th>\n",
       "      <td>820854</td>\n",
       "      <td>2015-05-24 11:04:40</td>\n",
       "      <td>ads_facebook</td>\n",
       "      <td>web</td>\n",
       "      <td>mac</td>\n",
       "      <td>0</td>\n",
       "      <td>39</td>\n",
       "      <td>0</td>\n",
       "      <td>Fishers</td>\n",
       "      <td>USA</td>\n",
       "      <td>39.95</td>\n",
       "      <td>-86.02</td>\n",
       "    </tr>\n",
       "  </tbody>\n",
       "</table>\n",
       "</div>"
      ],
      "text/plain": [
       "   user_id            timestamp          source  device operative_system  \\\n",
       "0   604839  2015-05-08 03:38:34    ads_facebook  mobile              iOS   \n",
       "1   624057  2015-05-10 21:08:46      seo-google  mobile          android   \n",
       "2   317970  2015-04-04 15:01:23        ads-bing  mobile          android   \n",
       "3   685636  2015-05-07 07:26:01  direct_traffic  mobile              iOS   \n",
       "4   820854  2015-05-24 11:04:40    ads_facebook     web              mac   \n",
       "\n",
       "   test  price  converted          city country    lat   long  \n",
       "0     0     39          0       Buffalo     USA  42.89 -78.86  \n",
       "1     0     39          0     Lakeville     USA  44.68 -93.24  \n",
       "2     0     39          0         Parma     USA  41.38 -81.73  \n",
       "3     1     59          0  Fayetteville     USA  35.07 -78.90  \n",
       "4     0     39          0       Fishers     USA  39.95 -86.02  "
      ]
     },
     "execution_count": 24,
     "metadata": {},
     "output_type": "execute_result"
    }
   ],
   "source": [
    "# Well, if the users are not being tracked, let's make sure that some user properties don't preclude a sale\n",
    "# merge the tables:\n",
    "results = results.join(users.set_index('user_id'), on='user_id')\n",
    "results.head()"
   ]
  },
  {
   "cell_type": "code",
   "execution_count": 138,
   "metadata": {},
   "outputs": [
    {
     "name": "stdout",
     "output_type": "stream",
     "text": [
      "['mobile' 'web']\n",
      "['USA' nan]\n",
      "['ads_facebook' 'seo-google' 'ads-bing' 'direct_traffic' 'ads-google'\n",
      " 'seo_facebook' 'friend_referral' 'ads_other' 'ads-yahoo' 'seo-yahoo'\n",
      " 'seo-bing' 'seo-other']\n"
     ]
    }
   ],
   "source": [
    "# Let's print the list of unique categories that could be problematic: country, device\n",
    "print results['device'].unique()\n",
    "print results['country'].unique()\n",
    "print results['source'].unique()"
   ]
  },
  {
   "cell_type": "code",
   "execution_count": 39,
   "metadata": {},
   "outputs": [
    {
     "name": "stdout",
     "output_type": "stream",
     "text": [
      "Entries in the results table: 316800\n",
      "Entries in the users table: 275616\n",
      "Difference: 41184\n"
     ]
    }
   ],
   "source": [
    "# What is going on with that?\n",
    "print 'Entries in the results table:', results.shape[0]\n",
    "print 'Entries in the users table:', users.shape[0]\n",
    "print 'Difference:', results.loc[results['country'] != 'USA'].shape[0]"
   ]
  },
  {
   "cell_type": "markdown",
   "metadata": {},
   "source": [
    "Interesting.  There are 41184 entries that do not have a geolocation associated with them.  I wonder if there are any sales in that set.  If it does have a geolocation, then it's in the USA.\n",
    "Let's build a table for my potential problem classes and just the total number of sales in each."
   ]
  },
  {
   "cell_type": "code",
   "execution_count": 42,
   "metadata": {},
   "outputs": [
    {
     "data": {
      "text/html": [
       "<table><tr><td></td><td>USA</td><td>No Location</td><td>Total</td></tr><tr><td>mobile</td><td>2990</td><td>470</td><td>3460</td></tr><tr><td>web</td><td>2029</td><td>319</td><td>2348</td></tr><tr><td>Total</td><td>5019</td><td>789</td><td>5808</td></tr></table>"
      ],
      "text/plain": [
       "<IPython.core.display.HTML object>"
      ]
     },
     "metadata": {},
     "output_type": "display_data"
    }
   ],
   "source": [
    "# results['converted'].loc[(results['country'] != 'USA') & (results['device'] == 'mobile')].sum()\n",
    "table2 = [[\"\", \"USA\",\"No Location\", \"Total\"],\n",
    "          [\"mobile\",results['converted'].loc[(results['device'] == 'mobile') & (results['country'] == 'USA')].sum(),\n",
    "               results['converted'].loc[(results['device'] == 'mobile') & (results['country'] != 'USA')].sum(),\n",
    "               results['converted'].loc[(results['device'] == 'mobile')].sum()],\n",
    "          [\"web\",results['converted'].loc[(results['device'] == 'web') & (results['country'] == 'USA')].sum(),\n",
    "               results['converted'].loc[(results['device'] == 'web') & (results['country'] != 'USA')].sum(),\n",
    "               results['converted'].loc[(results['device'] == 'web')].sum()],\n",
    "        [\"Total\", results['converted'].loc[(results['country'] == 'USA')].sum(),\n",
    "               results['converted'].loc[(results['country'] != 'USA')].sum(), results['converted'].sum()]]\n",
    "\n",
    "display(HTML(\n",
    "    '<table><tr>{}</tr></table>'.format(\n",
    "        '</tr><tr>'.join(\n",
    "            '<td>{}</td>'.format('</td><td>'.join(str(_) for _ in row)) for row in table2)\n",
    "        )\n",
    " ))"
   ]
  },
  {
   "cell_type": "markdown",
   "metadata": {},
   "source": [
    "I now believe that there are no categories of user behavior that should be disregarded based on potential behavior-purchase incompatibility.\n",
    "\n",
    "To address the first question of whether the test worked.  Let me do some quick math to determine what the change in conversion rate would need to be for the company to increase revenue with the higher price:\n",
    "The break even point is:\n",
    "current_rate*delta_rate*new_price = current_rate*old_price\n",
    "\n",
    "delta_rate = old_price/new_price = 0.66 or 66%\n",
    "\n",
    "Anything less than a 66% drop in conversion rate, and the company would increase revenue with the higher price.\n",
    "\n",
    "The first question is whether the test is even sufficiently powered to see this.  I think a one sided hypothesis test is appropriate.\n",
    "I assume the conversion rate over the old price condition during the test is the historic conversion rate."
   ]
  },
  {
   "cell_type": "code",
   "execution_count": 53,
   "metadata": {},
   "outputs": [
    {
     "name": "stdout",
     "output_type": "stream",
     "text": [
      "4035\n",
      "202727\n",
      "Current conversion rate:  0.0199036142201\n"
     ]
    }
   ],
   "source": [
    "#  conversion rate:\n",
    "p1 = float(results['converted'].loc[results['test'] == 0].sum())/(results['user_id'].loc[results['test'] == 0].count())\n",
    "print 'Current conversion rate: ', p1"
   ]
  },
  {
   "cell_type": "code",
   "execution_count": 54,
   "metadata": {},
   "outputs": [
    {
     "name": "stdout",
     "output_type": "stream",
     "text": [
      "Conversion rate plus maximum change:  0.0131566263489\n"
     ]
    }
   ],
   "source": [
    "# determine the conversion rate we wish to know if the new price affect is less than\n",
    "p2 = p1*39/59\n",
    "print 'Conversion rate plus maximum change: ', p2"
   ]
  },
  {
   "cell_type": "code",
   "execution_count": 91,
   "metadata": {},
   "outputs": [
    {
     "name": "stdout",
     "output_type": "stream",
     "text": [
      "Number of required samples in the test bucket under standard test success criteria (5% false positive, 80% power):\n",
      "7063\n"
     ]
    }
   ],
   "source": [
    "# For now I assume the 1/3 to 2/3 test to control split numbers are correct\n",
    "# The minimum number of samples we'd need to be able to see this effect at alpha = 0.05 and beta = 0.2 is:\n",
    "\n",
    "def minSamples(p1,p2,power, alpha):\n",
    "    Z_b = st.norm.ppf(power)\n",
    "    Z_a = st.norm.ppf(1-alpha)\n",
    "    n_test = (2*p1*(1-p1)+p2*(1-p2))*((Z_b+Z_a)/(p1-p2))**2\n",
    "    return n_test\n",
    "\n",
    "# The minimum number of samples we'd need to be able to see this effect at standard A/B test criteria :\n",
    "# alpha = 0.05 and power = 80% is:\n",
    "\n",
    "n_std = minSamples(p1,p2,.8,.05)\n",
    "print 'Number of required samples in the test bucket under standard test success criteria (5% false positive, 80% power):'\n",
    "print int(math.ceil(n_std))"
   ]
  },
  {
   "cell_type": "code",
   "execution_count": 95,
   "metadata": {},
   "outputs": [
    {
     "name": "stdout",
     "output_type": "stream",
     "text": [
      "Number of samples in the test bucket: 114073\n"
     ]
    }
   ],
   "source": [
    "# Now, how many do we have in the test bucket?\n",
    "print 'Number of samples in the test bucket:', results['user_id'].loc[results['test'] == 1].count()"
   ]
  },
  {
   "cell_type": "markdown",
   "metadata": {},
   "source": [
    "# Power analysis\n",
    "The test has ample sample size to see the effect at the level where revenue would decrease overall under the new price. In fact, the test has ample power to see an effect of that size with extremly stringent conditions for false positive chance and power."
   ]
  },
  {
   "cell_type": "code",
   "execution_count": 94,
   "metadata": {},
   "outputs": [
    {
     "name": "stdout",
     "output_type": "stream",
     "text": [
      "Number of required samples in the test bucket under very stringent conditions\n",
      "(0.1% false positive, 99% power): 33514\n",
      "Number of required samples in the test bucket under extremely stringent conditions\n",
      "(0.01% false positive, 99.9% power): 52963\n"
     ]
    }
   ],
   "source": [
    "n_test = minSamples(p1,p2,.99,.001)\n",
    "print 'Number of required samples in the test bucket under very stringent conditions'\n",
    "print '(0.1% false positive, 99% power):', int(math.ceil(n_test))\n",
    "\n",
    "n_test = minSamples(p1,p2,.999,.0001)\n",
    "print 'Number of required samples in the test bucket under extremely stringent conditions'\n",
    "print '(0.01% false positive, 99.9% power):', int(math.ceil(n_test))\n"
   ]
  },
  {
   "cell_type": "code",
   "execution_count": 73,
   "metadata": {},
   "outputs": [
    {
     "name": "stdout",
     "output_type": "stream",
     "text": [
      "Test conversion rate:  0.0155426788109\n",
      "Z score: 9.08607899769\n",
      "Z score: 5.35983573048\n"
     ]
    }
   ],
   "source": [
    "# What is the actual conversion rate was under the test:\n",
    "ptest = float(results['converted'].loc[results['test'] == 1].sum())/(results['user_id'].loc[results['test'] == 1].count())\n",
    "print 'Test conversion rate: ', ptest\n",
    "\n",
    "# And also the Z-score and then the confidence limit:\n",
    "def zScore(p1,p2,n1,n2):\n",
    "    z_score = abs(p1-p2)/(((p1*(1-p1))/n1)+((p2*(1-p2))/n2))**0.5\n",
    "    return z_score\n",
    "\n",
    "def confidence(z):\n",
    "    conf_limit = st.norm.cdf(z)\n",
    "    return conf_limit\n",
    "\n",
    "print 'Z score:',zScore(p1,ptest,results['user_id'].loc[results['test'] == 0].count(),\n",
    "                        results['user_id'].loc[results['test'] == 1].count())\n",
    "\n",
    "print 'Z score:',zScore(p2,ptest,results['user_id'].loc[results['test'] == 0].count(),\n",
    "                        results['user_id'].loc[results['test'] == 1].count())"
   ]
  },
  {
   "cell_type": "markdown",
   "metadata": {},
   "source": [
    "# Test Result\n",
    "With Z-scores substantially larger than the predetermined one-sided threshold for a 0.1% chance of false positive (Z-score > 3.1), we can conclude that the conversion rate from the test is indeed lower the current conversion rate, as well as larger than the calculate rate at which revenue would decrease under the new price.\n",
    "\n",
    "Before I turn my attention to a power analysis to answer the question of whether the test could have been run for less time, let me see whether the conversion rate had any noticable differences depending on where the traffic came from."
   ]
  },
  {
   "cell_type": "code",
   "execution_count": 179,
   "metadata": {},
   "outputs": [
    {
     "data": {
      "text/plain": [
       "<matplotlib.text.Text at 0x11fa8f890>"
      ]
     },
     "execution_count": 179,
     "metadata": {},
     "output_type": "execute_result"
    },
    {
     "data": {
      "image/png": "[encoded data removed]",
      "text/plain": [
       "<matplotlib.figure.Figure at 0x11dc9ba50>"
      ]
     },
     "metadata": {},
     "output_type": "display_data"
    }
   ],
   "source": [
    "p_overall = float(results['converted'].loc[results['test'] == 0].sum())/(results['user_id'].loc[results['test'] == 0].\n",
    "                                                                        count())\n",
    "\n",
    "s = ['All']\n",
    "rate = [p_overall]\n",
    "\n",
    "for i in results['source'].unique():\n",
    "#     print (results['converted'].loc[(results['test'] == 0) & (results['source']==i)].sum())\n",
    "#     print (results['user_id'].loc[(results['test'] == 0) & (results['source']==i)].count())\n",
    "\n",
    "    temp = float((results['converted'].loc[(results['test'] == 0) & (results['source']==i)].sum()))/(results['user_id'].loc[(results['test'] == 0) & (results['source']==i)].count())\n",
    "    s.append(i)\n",
    "    rate.append(temp)\n",
    "\n",
    "Sources = pd.DataFrame()\n",
    "Sources['Traffic_Source']=s\n",
    "Sources['Conversion_Rate']=rate\n",
    "\n",
    "# ax = sns.barplot(x=\"Conversion_Rate\", y=\"Traffic_Source\", data=Sources)\n",
    "# ax.set_title('Current Price')\n",
    "\n",
    "p_overall2 = float(results['converted'].loc[results['test'] == 1].sum())/(results['user_id'].loc[results['test'] == 1].\n",
    "                                                                        count())\n",
    "\n",
    "s = ['All']\n",
    "rate = [p_overall2]\n",
    "\n",
    "for i in results['source'].unique():\n",
    "#     print (results['converted'].loc[(results['test'] == 0) & (results['source']==i)].sum())\n",
    "#     print (results['user_id'].loc[(results['test'] == 0) & (results['source']==i)].count())\n",
    "\n",
    "    temp = float((results['converted'].loc[(results['test'] == 1) & (results['source']==i)].sum()))/(results['user_id'].loc[(results['test'] == 1) & (results['source']==i)].count())\n",
    "    s.append(i)\n",
    "    rate.append(temp)\n",
    "\n",
    "Sources2 = pd.DataFrame()\n",
    "Sources2['Traffic_Source']=s\n",
    "Sources2['Conversion_Rate']=rate\n",
    "\n",
    "ax1 = sns.barplot(x=\"Conversion_Rate\", y=\"Traffic_Source\", data=Sources2)\n",
    "ax1.set_title('New Price')"
   ]
  },
  {
   "cell_type": "code",
   "execution_count": 178,
   "metadata": {},
   "outputs": [
    {
     "data": {
      "text/plain": [
       "<matplotlib.text.Text at 0x11dc32cd0>"
      ]
     },
     "execution_count": 178,
     "metadata": {},
     "output_type": "execute_result"
    },
    {
     "data": {
      "image/png": "[encoded data removed]",
      "text/plain": [
       "<matplotlib.figure.Figure at 0x12165f950>"
      ]
     },
     "metadata": {},
     "output_type": "display_data"
    }
   ],
   "source": [
    "ax = sns.barplot(x=\"Conversion_Rate\", y=\"Traffic_Source\", data=Sources)\n",
    "ax.set_title('Current Price')"
   ]
  },
  {
   "cell_type": "markdown",
   "metadata": {},
   "source": [
    "# Results\n",
    "The test worked and the new price increases revenue.\n",
    "\n",
    "Looking at the breakdown of conversion rate by where the traffic comes from, it is certainly clear that referrals result in the highest conversion rate, both for the new price and the old price.  Ads placed on bing and yahoo seem to be less effective and represent a potential avenue to target to increase revenue."
   ]
  },
  {
   "cell_type": "code",
   "execution_count": null,
   "metadata": {
    "collapsed": true
   },
   "outputs": [],
   "source": []
  }
 ],
 "metadata": {
  "kernelspec": {
   "display_name": "Python 2",
   "language": "python",
   "name": "python2"
  },
  "language_info": {
   "codemirror_mode": {
    "name": "ipython",
    "version": 2
   },
   "file_extension": ".py",
   "mimetype": "text/x-python",
   "name": "python",
   "nbconvert_exporter": "python",
   "pygments_lexer": "ipython2",
   "version": "2.7.13"
  }
 },
 "nbformat": 4,
 "nbformat_minor": 2
}
